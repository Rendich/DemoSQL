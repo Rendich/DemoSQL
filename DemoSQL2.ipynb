{
 "cells": [
  {
   "cell_type": "markdown",
   "metadata": {},
   "source": [
    "# Introduction"
   ]
  },
  {
   "cell_type": "markdown",
   "metadata": {},
   "source": [
    "In this notebook I show the different join in Postgresql. You can copy/paste this cell in some sql service like http://sqlfiddle.com/ and do interactive queries."
   ]
  },
  {
   "cell_type": "markdown",
   "metadata": {},
   "source": [
    "## Schema"
   ]
  },
  {
   "cell_type": "markdown",
   "metadata": {},
   "source": [
    "Copy and paste the next code in the left side (\"Schema Panel\"), and click on \"Build Schema\"."
   ]
  },
  {
   "cell_type": "markdown",
   "metadata": {},
   "source": [
    "CREATE TABLE COMPANY(  \n",
    "   ID INT PRIMARY KEY     NOT NULL,  \n",
    "   NAME           TEXT    NOT NULL,  \n",
    "   AGE            INT     NOT NULL,  \n",
    "   ADDRESS        CHAR(50)  \n",
    ");  \n",
    "-- - - - - - - - - - -  - - - - - -\n",
    "CREATE TABLE DEPARTMENT(  \n",
    "   ID INT PRIMARY KEY      NOT NULL,  \n",
    "   DEPT           CHAR(50) NOT NULL,  \n",
    "   EMP_ID         INT      NOT NULL  \n",
    ");  \n",
    "-- - - - - - - - - - -  - - - - - -\n",
    "INSERT INTO COMPANY (ID,NAME,AGE,ADDRESS)   \n",
    "VALUES   \n",
    "(1, 'Paul', 32, 'California'),  \n",
    "(2, 'Allen', 25, 'Texas'),  \n",
    "(3, 'Teddy', 23, 'Norway'),  \n",
    "(4, 'Mark', 25, 'Rich-Mond'),  \n",
    "(5, 'David', 27, 'Texas');      \n",
    "-- - - - - - - - - - -  - - - - - -\n",
    "INSERT INTO DEPARTMENT (ID, DEPT, EMP_ID)    \n",
    "VALUES     \n",
    "(1, 'IT Billing', 1 ),    \n",
    "(2, 'Engineering', 2 ),    \n",
    "(3, 'Finance', 7 );  "
   ]
  },
  {
   "cell_type": "markdown",
   "metadata": {},
   "source": [
    "Now will be active the rigth side (\"Query Panel\"). Copy and paste the next code:"
   ]
  },
  {
   "cell_type": "markdown",
   "metadata": {},
   "source": [
    "-- Case 0  \n",
    "SELECT 'CROSS JOIN' as type, \n",
    "  COMPANY.id,name,age,address,DEPARTMENT.id,dept,emp_id  \n",
    "FROM DEPARTMENT, COMPANY  \n",
    "ORDER BY COMPANY.ID;  \n",
    "\n",
    "------------------------------------------------  \n",
    "-- Case 0B  \n",
    "SELECT 'JOIN (no restriction)' as type, \n",
    "  COMPANY.id,name,age,address,DEPARTMENT.id,dept,emp_id  \n",
    "FROM DEPARTMENT, COMPANY  \n",
    "ORDER BY COMPANY.ID;  \n",
    "\n",
    "------------------------------------------------  \n",
    "-- Case 1  \n",
    "SELECT 'INNER JOIN' as type, -- 1  \n",
    "  COMPANY.id,name,age,address,DEPARTMENT.id,dept,emp_id  \n",
    "FROM COMPANY INNER JOIN DEPARTMENT  \n",
    "        ON COMPANY.ID = DEPARTMENT.EMP_ID  \n",
    "        ORDER BY COMPANY.ID;  \n",
    "\n",
    "------------------------------------------------  \n",
    "-- Case 2  \n",
    "SELECT 'LEFT JOIN' as type, -- 2  \n",
    "  COMPANY.id,name,age,address,DEPARTMENT.id,dept,emp_id  \n",
    "FROM COMPANY LEFT JOIN DEPARTMENT  \n",
    "        ON COMPANY.ID = DEPARTMENT.EMP_ID  \n",
    "        ORDER BY COMPANY.ID;  \n",
    "\n",
    "------------------------------------------------  \n",
    "-- Case 3  \n",
    "SELECT 'RIGHT JOIN' as type, -- 3  \n",
    "  COMPANY.id,name,age,address,DEPARTMENT.id,dept,emp_id  \n",
    "FROM COMPANY RIGHT JOIN DEPARTMENT  \n",
    "        ON COMPANY.ID = DEPARTMENT.EMP_ID  \n",
    "        ORDER BY COMPANY.ID;  \n",
    "\n",
    "------------------------------------------------  \n",
    "-- Case 4  \n",
    "SELECT 'FULL OUTER JOIN' as type, -- 4  \n",
    "  COMPANY.id,name,age,address,DEPARTMENT.id,dept,emp_id  \n",
    "FROM COMPANY FULL OUTER JOIN DEPARTMENT  \n",
    "        ON COMPANY.ID = DEPARTMENT.EMP_ID  \n",
    "        ORDER BY COMPANY.ID;  \n",
    "\n",
    "------------------------------------------------  \n"
   ]
  },
  {
   "cell_type": "markdown",
   "metadata": {},
   "source": [
    "## Explanation"
   ]
  },
  {
   "cell_type": "markdown",
   "metadata": {},
   "source": [
    "### CROSS JOIN\n",
    "\n",
    "In this case create a relation between each element on the first table with each element in the second table."
   ]
  },
  {
   "cell_type": "markdown",
   "metadata": {},
   "source": [
    "-- Case 0  \n",
    "SELECT 'CROSS JOIN' as type,\n",
    "  COMPANY.id,name,age,address,DEPARTMENT.id,dept,emp_id  \n",
    "FROM DEPARTMENT CROSS JOIN COMPANY  \n",
    "ORDER BY COMPANY.ID;  "
   ]
  },
  {
   "cell_type": "markdown",
   "metadata": {},
   "source": [
    "|type|id | name |\tage |\taddress | id | dept |emp_id  |  \n",
    "|----|----|----|----|----|----|----|----|\n",
    "| CROSS JOIN | 1 | Paul | 32 | California | 1 | IT Billing | 1|\n",
    "| CROSS JOIN | 1 | Paul | 32 | California | 2 | Engineering | 2|\n",
    "| CROSS JOIN | 1 | Paul | 32 | California | 3 | Finance | 7|\n",
    "| CROSS JOIN | 2 | Allen | 25 | Texas | 1 | IT Billing | 1|\n",
    "| CROSS JOIN | 2 | Allen | 25 | Texas | 2 | Engineering | 2|\n",
    "| CROSS JOIN | 2 | Allen | 25 | Texas | 3 | Finance | 7|\n",
    "| CROSS JOIN | 3 | Teddy | 23 | Norway | 1 | IT Billing | 1|\n",
    "| CROSS JOIN | 3 | Teddy | 23 | Norway | 2 | Engineering | 2|\n",
    "| CROSS JOIN | 3 | Teddy | 23 | Norway | 3 | Finance | 7|\n",
    "| CROSS JOIN | 4 | Mark | 25 | Rich-Mond | 1 | IT Billing | 1|\n",
    "| CROSS JOIN | 4 | Mark | 25 | Rich-Mond | 2 | Engineering | 2|\n",
    "| CROSS JOIN | 4 | Mark | 25 | Rich-Mond | 3 | Finance | 7|\n",
    "| CROSS JOIN | 5 | David | 27 | Texas | 1 | IT Billing | 1|\n",
    "| CROSS JOIN | 5 | David | 27 | Texas | 2 | Engineering | 2|\n",
    "| CROSS JOIN | 5 | David | 27 | Texas | 3 | Finance | 7|"
   ]
  },
  {
   "cell_type": "markdown",
   "metadata": {},
   "source": [
    "The text \"CROSS JOIN\" could be replaced with just a \",\" too"
   ]
  },
  {
   "cell_type": "markdown",
   "metadata": {},
   "source": [
    "-- Case 0B  \n",
    "SELECT 'JOIN (no restriction)' as type, \n",
    "  COMPANY.id,name,age,address,DEPARTMENT.id,dept,emp_id  \n",
    "FROM DEPARTMENT, COMPANY  \n",
    "ORDER BY COMPANY.ID;  "
   ]
  },
  {
   "cell_type": "markdown",
   "metadata": {},
   "source": [
    "|type|id | name |\tage |\taddress | id | dept |emp_id  |  \n",
    "|----|----|----|----|----|----|----|----|\n",
    "| JOIN (no restriction) | 1 | Paul | 32 | California | 1 | IT Billing | 1|\n",
    "| JOIN (no restriction) | 1 | Paul | 32 | California | 2 | Engineering | 2|\n",
    "| JOIN (no restriction) | 1 | Paul | 32 | California | 3 | Finance | 7|\n",
    "| JOIN (no restriction) | 2 | Allen | 25 | Texas | 1 | IT Billing | 1|\n",
    "| JOIN (no restriction) | 2 | Allen | 25 | Texas | 2 | Engineering | 2|\n",
    "| JOIN (no restriction) | 2 | Allen | 25 | Texas | 3 | Finance | 7|\n",
    "| JOIN (no restriction) | 3 | Teddy | 23 | Norway | 1 | IT Billing | 1|\n",
    "| JOIN (no restriction) | 3 | Teddy | 23 | Norway | 2 | Engineering | 2|\n",
    "| JOIN (no restriction) | 3 | Teddy | 23 | Norway | 3 | Finance | 7|\n",
    "| JOIN (no restriction) | 4 | Mark | 25 | Rich-Mond | 1 | IT Billing | 1|\n",
    "| JOIN (no restriction) | 4 | Mark | 25 | Rich-Mond | 2 | Engineering | 2|\n",
    "| JOIN (no restriction) | 4 | Mark | 25 | Rich-Mond | 3 | Finance | 7|\n",
    "| JOIN (no restriction) | 5 | David | 27 | Texas | 1 | IT Billing | 1|\n",
    "| JOIN (no restriction) | 5 | David | 27 | Texas | 2 | Engineering | 2|\n",
    "| JOIN (no restriction) | 5 | David | 27 | Texas | 3 | Finance | 7|"
   ]
  },
  {
   "cell_type": "markdown",
   "metadata": {},
   "source": [
    "### INNER JOIN\n",
    "\n",
    "In this case just take the element that exist in both, first and second table"
   ]
  },
  {
   "cell_type": "markdown",
   "metadata": {},
   "source": [
    "-- Case 1  \n",
    "SELECT 'INNER JOIN' as type,  \n",
    "  COMPANY.id,name,age,address,DEPARTMENT.id,dept,emp_id  \n",
    "FROM COMPANY INNER JOIN DEPARTMENT  \n",
    "        ON COMPANY.ID = DEPARTMENT.EMP_ID  \n",
    "        ORDER BY COMPANY.ID;  "
   ]
  },
  {
   "cell_type": "markdown",
   "metadata": {},
   "source": [
    "|type|id | name |\tage |\taddress | id | dept |emp_id  |  \n",
    "|----|----|----|----|----|----|----|----|\n",
    "|INNER JOIN | 1 |\tPaul |\t32 | California | 1 |IT Billing | 1  |  \n",
    "|INNER JOIN | 2 |\tAllen |\t25 | Texas | 2 |Engineering | 2  |  "
   ]
  },
  {
   "cell_type": "markdown",
   "metadata": {},
   "source": [
    "### LEFT JOIN\n",
    "\n",
    "In this case take all the elements in the first table (the \"left\"), and add matched elements in the second table (the \"right\")"
   ]
  },
  {
   "cell_type": "markdown",
   "metadata": {},
   "source": [
    "-- Case 2  \n",
    "SELECT 'LEFT JOIN' as type,   \n",
    "  COMPANY.id,name,age,address,DEPARTMENT.id,dept,emp_id  \n",
    "FROM COMPANY LEFT JOIN DEPARTMENT  \n",
    "        ON COMPANY.ID = DEPARTMENT.EMP_ID  \n",
    "        ORDER BY COMPANY.ID;  "
   ]
  },
  {
   "cell_type": "markdown",
   "metadata": {},
   "source": [
    "|type|id | name |\tage |\taddress | id | dept |emp_id  |  \n",
    "|----|----|----|----|----|----|----|----|\n",
    "|LEFT JOIN | 1 | Paul | 32 | California\t| 1\t| IT Billing | 1|\n",
    "|LEFT JOIN | 2 | Allen | 25 | Texas\t| 2 |\tEngineering | 2|\n",
    "|LEFT JOIN | 3 | Teddy | 23 | Norway\t| (null) | (null) | (null)|\n",
    "|LEFT JOIN | 4 | Mark | 25 | Rich -Mond| (null) | (null) | (null)|\n",
    "|LEFT JOIN | 5 | David | 27 | Texas\t| (null) | (null) | (null)|"
   ]
  },
  {
   "cell_type": "markdown",
   "metadata": {},
   "source": [
    "### RIGHT JOIN\n",
    "\n",
    "This is opposite the previous. In this case take all the elements in the second table (the \"right\"), and add matched elements in the first table (the \"left\")"
   ]
  },
  {
   "cell_type": "markdown",
   "metadata": {},
   "source": [
    "-- Case 3  \n",
    "SELECT 'RIGHT JOIN' as type,   \n",
    "  COMPANY.id,name,age,address,DEPARTMENT.id,dept,emp_id  \n",
    "FROM COMPANY RIGHT JOIN DEPARTMENT  \n",
    "        ON COMPANY.ID = DEPARTMENT.EMP_ID  \n",
    "        ORDER BY COMPANY.ID;  "
   ]
  },
  {
   "cell_type": "markdown",
   "metadata": {},
   "source": [
    "|type|id | name |\tage |\taddress | id | dept |emp_id  |  \n",
    "|----|----|----|----|----|----|----|----|\n",
    "|RIGHT JOIN| 1 | Paul | 32 | California\t1 | IT | Billing | 1|\n",
    "|RIGHT JOIN| 2 | Allen | 25 | Texas | 2 | Engineering | 2|\n",
    "|RIGHT JOIN| (null)| (null) | (null) | (null) | 3 | Finance\t| 7|"
   ]
  },
  {
   "cell_type": "markdown",
   "metadata": {},
   "source": [
    "### FULL OUTER JOIN\n",
    "\n",
    "In this case take all the elements in the first table (the \"left\"), and try to match with elements in the second table (the \"right\"), but if an element doesn't  exist, it is replaced with 'null'"
   ]
  },
  {
   "cell_type": "markdown",
   "metadata": {},
   "source": [
    "-- Case 4  \n",
    "SELECT 'FULL OUTER JOIN' as type,   \n",
    "  COMPANY.id,name,age,address,DEPARTMENT.id,dept,emp_id  \n",
    "FROM COMPANY FULL OUTER JOIN DEPARTMENT  \n",
    "        ON COMPANY.ID = DEPARTMENT.EMP_ID  \n",
    "        ORDER BY COMPANY.ID;  "
   ]
  },
  {
   "cell_type": "markdown",
   "metadata": {},
   "source": [
    "|type|id | name |\tage |\taddress | id | dept |emp_id  |  \n",
    "|----|----|----|----|----|----|----|----|\n",
    "|FULL OUTER JOIN | 1 | Paul | 32 | California | 1 | IT Billing | 1|\n",
    "|FULL OUTER JOIN | 2 | Allen | 25 | Texas | 2 | Engineering | 2|\n",
    "|FULL OUTER JOIN | 3 | Teddy | 23 | Norway | (null) | (null) | (null)|\n",
    "|FULL OUTER JOIN | 4 | Mark | 25 | Rich-Mond | (null) | (null) | (null)|\n",
    "|FULL OUTER JOIN | 5 | David | 27 | Texas | (null) | (null) | (null)|\n",
    "|FULL OUTER JOIN | (null) | (null) | (null) | (null) | 3 | Finance | 7|"
   ]
  },
  {
   "cell_type": "markdown",
   "metadata": {},
   "source": []
  }
 ],
 "metadata": {
  "kernelspec": {
   "display_name": "Python 3",
   "language": "python",
   "name": "python3"
  },
  "language_info": {
   "codemirror_mode": {
    "name": "ipython",
    "version": 3
   },
   "file_extension": ".py",
   "mimetype": "text/x-python",
   "name": "python",
   "nbconvert_exporter": "python",
   "pygments_lexer": "ipython3",
   "version": "3.7.7"
  }
 },
 "nbformat": 4,
 "nbformat_minor": 4
}
