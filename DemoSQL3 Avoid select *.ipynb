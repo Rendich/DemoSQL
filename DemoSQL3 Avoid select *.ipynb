{
 "cells": [
  {
   "cell_type": "markdown",
   "metadata": {},
   "source": [
    "# Avoid select *"
   ]
  },
  {
   "cell_type": "markdown",
   "metadata": {},
   "source": [
    "For this experiment you can use http://sqlfiddle.com/.  \n",
    "Let create a table with 5 integer column, and populate this with 1.000.000 rows.  \n",
    "You could generate this with any function, I used i/1,i/10,i/100, i/1000, i/10000, for each i = element in serie."
   ]
  },
  {
   "cell_type": "markdown",
   "metadata": {},
   "source": [
    "CREATE TABLE tbl (                                                                        \n",
    "    col1 int,                                                                             \n",
    "    col2 int,                                                                             \n",
    "    col3 int,                                                                             \n",
    "    col4 int,                                                                             \n",
    "    col5 int                                                                              \n",
    ");                                                                                        \n",
    "INSERT INTO tbl SELECT i/1,i/10,i/100, i/1000, i/10000                                                  \n",
    "FROM generate_series (1,1000000) s(i);                                                   "
   ]
  },
  {
   "cell_type": "markdown",
   "metadata": {},
   "source": [
    "Ok, now let see the [plan ***explain***](https://www.postgresql.org/docs/9.4/using-explain.html) for \"select *\" and for \"select col1,col2,col3,col4,col5\""
   ]
  },
  {
   "cell_type": "markdown",
   "metadata": {},
   "source": [
    "explain select * from tbl;\n",
    "explain select col1,col2,col3,col4,col5 from tbl;"
   ]
  },
  {
   "cell_type": "markdown",
   "metadata": {},
   "source": [
    "In the first case we have"
   ]
  },
  {
   "cell_type": "markdown",
   "metadata": {},
   "source": [
    "QUERY PLAN\n",
    "Seq Scan on tbl (cost=0.00..16370.00 rows=1000000 width=20)\n",
    " Record Count: 1; Execution Time: 11ms"
   ]
  },
  {
   "cell_type": "markdown",
   "metadata": {},
   "source": [
    "while in the second case"
   ]
  },
  {
   "cell_type": "markdown",
   "metadata": {},
   "source": [
    "QUERY PLAN\n",
    "Seq Scan on tbl (cost=0.00..16370.00 rows=1000000 width=20)\n",
    " Record Count: 1; Execution Time: 1ms"
   ]
  },
  {
   "cell_type": "markdown",
   "metadata": {},
   "source": [
    "That means that \"select *\" is **more than 10 times slower!**"
   ]
  }
 ],
 "metadata": {
  "kernelspec": {
   "display_name": "Python 3",
   "language": "python",
   "name": "python3"
  },
  "language_info": {
   "codemirror_mode": {
    "name": "ipython",
    "version": 3
   },
   "file_extension": ".py",
   "mimetype": "text/x-python",
   "name": "python",
   "nbconvert_exporter": "python",
   "pygments_lexer": "ipython3",
   "version": "3.7.7"
  }
 },
 "nbformat": 4,
 "nbformat_minor": 4
}
